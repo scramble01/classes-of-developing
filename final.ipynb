{
 "cells": [
  {
   "cell_type": "code",
   "execution_count": 16,
   "metadata": {},
   "outputs": [
    {
     "ename": "TypeError",
     "evalue": "int() takes at most 2 arguments (3 given)",
     "output_type": "error",
     "traceback": [
      "\u001b[1;31m---------------------------------------------------------------------------\u001b[0m",
      "\u001b[1;31mTypeError\u001b[0m                                 Traceback (most recent call last)",
      "Cell \u001b[1;32mIn[16], line 1\u001b[0m\n\u001b[1;32m----> 1\u001b[0m \u001b[39mclass\u001b[39;49;00m \u001b[39mrandomaizer\u001b[39;49;00m(\u001b[39m422\u001b[39;49m):\n\u001b[0;32m      2\u001b[0m     \u001b[39mdef\u001b[39;49;00m \u001b[39m__init__\u001b[39;49m(\u001b[39mself\u001b[39;49m, random_number, random_N_numbers):\n\u001b[0;32m      3\u001b[0m         \u001b[39mself\u001b[39;49m\u001b[39m.\u001b[39;49mrandom_number \u001b[39m=\u001b[39;49m random_number\n",
      "\u001b[1;31mTypeError\u001b[0m: int() takes at most 2 arguments (3 given)"
     ]
    }
   ],
   "source": [
    "class randomaizer(422):\n",
    "    def __init__(self, random_number, random_N_numbers):\n",
    "        self.random_number = random_number\n",
    "        self.random_N_numbers = random_N_numbers\n",
    "\n",
    "\n",
    "    def random(self):    \n",
    "        \n",
    "        if self.random_number == 'random number':\n",
    "            import random \n",
    "            a=random.randint(0,422)\n",
    "            print(a)\n",
    "        \n",
    "        if self.random_N_numbers == 'random N numbers':\n",
    "            import random \n",
    "            a = int(input())\n",
    "            for y in range(a)\n",
    "                x = random.randint(0,422)\n",
    "                print(x)\n",
    "\n",
    "\n",
    "\n",
    "\n",
    "\n",
    "    \n",
    "    \n",
    "    \n",
    "    "
   ]
  }
 ],
 "metadata": {
  "kernelspec": {
   "display_name": "Python 3",
   "language": "python",
   "name": "python3"
  },
  "language_info": {
   "codemirror_mode": {
    "name": "ipython",
    "version": 3
   },
   "file_extension": ".py",
   "mimetype": "text/x-python",
   "name": "python",
   "nbconvert_exporter": "python",
   "pygments_lexer": "ipython3",
   "version": "3.11.4"
  },
  "orig_nbformat": 4
 },
 "nbformat": 4,
 "nbformat_minor": 2
}
